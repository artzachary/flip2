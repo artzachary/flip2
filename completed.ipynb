{
 "cells": [
  {
   "cell_type": "code",
   "execution_count": 3,
   "metadata": {},
   "outputs": [],
   "source": [
    "##################################### IMPORT ######################################\n",
    "# package listing                                                                 #\n",
    "###################################################################################\n",
    "from bs4 import BeautifulSoup \n",
    "from datetime import datetime\n",
    "from datetime import timedelta\n",
    "import csv as csv\n",
    "import requests\n",
    "import pandas as pd\n",
    "import time\n",
    "import numpy as np\n",
    "from sklearn.cluster import KMeans\n",
    "import mechanicalsoup\n",
    "pd.options.mode.chained_assignment = None"
   ]
  },
  {
   "cell_type": "code",
   "execution_count": 5,
   "metadata": {},
   "outputs": [],
   "source": [
    "################################ MECHANICAL SOUP ##################################\n",
    "# automation of buy & sell orders will need several pieces to fully automate:     #\n",
    "#     1. take target cards and build URLs to feed the MS algorithm                #\n",
    "#     2. observe price, place competitive buy order                               #\n",
    "#     3. refresh page (at certain repeating rate) to observe following states:    #\n",
    "#          a. buy order successful: prompts sell order                            #\n",
    "#               i. proceed to step 4.                                             #\n",
    "#          b. price change (buy order unsuccessful): prompts cancel order,        #\n",
    "#               i. return to step 2.                                              #\n",
    "#     4. observe price, place competitive sell order                              #\n",
    "#     5. repeat of step 3. to observe status of sale, observe following states:   #\n",
    "#          a. sell order successful: termination of algorithm?                    #\n",
    "#          b. price change (sell order unsuccessful): prompts cancel order,       #\n",
    "#               i. 4 to step 2.                                                   #\n",
    "###################################################################################\n",
    "\n",
    "from selenium import webdriver\n",
    "from selenium.webdriver.common.keys import Keys\n",
    "from urllib.request import urlopen \n",
    "\n",
    "#would be cool if could use session ids, return to this...\n",
    "#driver = webdriver.Remote(command_executor=url,desired_capabilities={})\n",
    "#driver.session_id = session_id\n",
    "\n",
    "url = 'https://mlb19.theshownation.com/community_market/orders/completed'\n",
    "\n",
    "driver = webdriver.Firefox()\n",
    "\n",
    "## until i figure out a better fix, submit creds to PSN manually here, \n",
    "## then continue to next notebook section for automation \n",
    "driver.get(url)\n",
    "#link = driver.find_element_by_link_text('here')\n",
    "#link.click()\n",
    "\n",
    "session_url = driver.command_executor._url \n",
    "session_id = driver.session_id\n",
    "\n",
    "time.sleep(30) # login and wait\n",
    "\n",
    "driver.get(url)\n",
    "src=driver.page_source\n",
    "soup = BeautifulSoup(src)\n",
    "\n",
    "fnd = soup.find(\"div\", {\"class\": \"pagination\"})\n",
    "found = str(str(str(fnd).split(\">\")).split(\"<\"))\n",
    "\n",
    "# pagination\n",
    "max_index = found[-75:-73]"
   ]
  },
  {
   "cell_type": "code",
   "execution_count": 6,
   "metadata": {},
   "outputs": [],
   "source": [
    "completed_orders = None\n",
    "name = []\n",
    "price = []\n",
    "date = []\n",
    "dt = []\n",
    "tran_type = []\n",
    "\n",
    "# get the data\n",
    "# get max page index\n",
    "for i in range(1,int(max_index)+1):\n",
    "    url2='https://mlb19.theshownation.com/community_market/orders/completed?page=' + str(i) + '&'\n",
    "\n",
    "    driver.get(url2)\n",
    "    src=driver.page_source\n",
    "    soup = BeautifulSoup(src)\n",
    "\n",
    "    for j in range(0,int(len(soup.find_all(\"td\"))/3)):\n",
    "\n",
    "        ## NAME\n",
    "        name.append(soup.find_all(\"td\")[3*j].get_text().strip())\n",
    "\n",
    "        ## PRICE \n",
    "        if soup.find_all(\"td\")[3*j+1].get_text()[1] == \"S\":\n",
    "            # transaction type \n",
    "            tran_type.append(soup.find_all(\"td\")[3*j+1].get_text().strip()[0:5])\n",
    "            # price\n",
    "            price.append(int(soup.find_all(\"td\")[3*j+1].get_text().replace(\",\",\"\").split(\"\\n\")[3])*0.9)\n",
    "        else:\n",
    "            # transaction type \n",
    "            tran_type.append(soup.find_all(\"td\")[3*j+1].get_text().strip()[0:7])\n",
    "            # price\n",
    "            price.append(int(soup.find_all(\"td\")[3*j+1].get_text().replace(\",\",\"\").split(\"\\n\")[3])*(-1))\n",
    "\n",
    "        ## DATE\n",
    "        # date\n",
    "        date.append(soup.find_all(\"td\")[3*j+2].get_text().split(\" \")[0])\n",
    "        # datetime\n",
    "        dt.append(datetime.strptime(soup.find_all(\"td\")[3*j+2].get_text().replace(' PDT',''), '%m/%d/%Y %I:%M%p') + timedelta(hours=2))\n",
    "    \n",
    "completed_orders = pd.DataFrame(zip(name,tran_type,price,date,dt),columns=['Name','Tran_type','Price','Date','Datetime'])\n",
    "\n",
    "if name:\n",
    "    name.clear(), tran_type.clear(), price.clear(), date.clear(), dt.clear()\n",
    "\n",
    "completed_orders.to_csv(\"completed.csv\")"
   ]
  },
  {
   "cell_type": "code",
   "execution_count": 164,
   "metadata": {},
   "outputs": [
    {
     "data": {
      "text/plain": [
       "538"
      ]
     },
     "execution_count": 164,
     "metadata": {},
     "output_type": "execute_result"
    }
   ],
   "source": [
    "#completed_orders.to_csv(\"completed\")\n",
    "#completed_orders[\"Date\"][0].split(\" \")\n",
    "#soup.find_all(\"td\")[3*j+2].get_text().split(\" \")[0]\n",
    "int(soup.find_all(\"td\")[1].get_text().split(\"\\n\")[3])"
   ]
  }
 ],
 "metadata": {
  "kernelspec": {
   "display_name": "Python 3",
   "language": "python",
   "name": "python3"
  },
  "language_info": {
   "codemirror_mode": {
    "name": "ipython",
    "version": 3
   },
   "file_extension": ".py",
   "mimetype": "text/x-python",
   "name": "python",
   "nbconvert_exporter": "python",
   "pygments_lexer": "ipython3",
   "version": "3.6.8"
  }
 },
 "nbformat": 4,
 "nbformat_minor": 2
}
